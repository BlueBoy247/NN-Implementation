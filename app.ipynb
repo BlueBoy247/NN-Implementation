{
  "cells": [
    {
      "cell_type": "markdown",
      "source": [
        "# Neural Networks(NN) Implementation"
      ],
      "metadata": {
        "id": "_ZHV4HniHqf5"
      }
    },
    {
      "cell_type": "markdown",
      "source": [
        "## Data Preprocessing"
      ],
      "metadata": {
        "id": "fucDFcJ2L8YN"
      }
    },
    {
      "cell_type": "markdown",
      "source": [
        "### Step 1: Use TensorFlow to build Keras"
      ],
      "metadata": {
        "id": "fFQWVIo9KICr"
      }
    },
    {
      "cell_type": "code",
      "execution_count": null,
      "metadata": {
        "id": "GiTXThvIk1ke"
      },
      "outputs": [],
      "source": [
        "%env KERAS_BACKEND=tensorflow"
      ]
    },
    {
      "cell_type": "markdown",
      "source": [
        "### Step 2: Import NumPy and Matplotlib\n",
        "**NumPy** allows us to perform matrix operations and other mathematical computations.\n",
        "\n",
        "**Matplotlib** helps us visualize data by creating plots and graphs."
      ],
      "metadata": {
        "id": "_H5M6I36KYtv"
      }
    },
    {
      "cell_type": "code",
      "execution_count": null,
      "metadata": {
        "id": "IVsG6tAkk4wH"
      },
      "outputs": [],
      "source": [
        "%matplotlib inline\n",
        "\n",
        "import numpy\n",
        "import matplotlib.pyplot"
      ]
    },
    {
      "cell_type": "markdown",
      "source": [
        "### Step 3: Download MNIST"
      ],
      "metadata": {
        "id": "6D-3kPO8K_Je"
      }
    },
    {
      "cell_type": "code",
      "execution_count": null,
      "metadata": {
        "id": "HTGDSI0koIlQ"
      },
      "outputs": [],
      "source": [
        "from keras.datasets import mnist\n",
        "(train_data, train_ans), (test_data, test_ans) = mnist.load_data()"
      ]
    },
    {
      "cell_type": "code",
      "execution_count": null,
      "metadata": {
        "id": "tTLBp-38nnt6"
      },
      "outputs": [],
      "source": [
        "# test\n",
        "test_data[7122]"
      ]
    },
    {
      "cell_type": "code",
      "execution_count": null,
      "metadata": {
        "id": "WAyBkNn7pls-"
      },
      "outputs": [],
      "source": [
        "# test\n",
        "matplotlib.pyplot.imshow(train_data[7122], cmap = 'Greens')"
      ]
    },
    {
      "cell_type": "markdown",
      "source": [
        "### Step 4: Adjust the shape of the input images"
      ],
      "metadata": {
        "id": "v7xF_QqiLK5O"
      }
    },
    {
      "cell_type": "code",
      "execution_count": null,
      "metadata": {
        "id": "dcJd7J9bsZF4"
      },
      "outputs": [],
      "source": [
        "train_data = train_data.reshape(60000, 784) # 28 * 28 = 784\n",
        "test_data = test_data.reshape(10000, 784)"
      ]
    },
    {
      "cell_type": "markdown",
      "source": [
        "### Step 5: Set output data format\n",
        "Convert the answer to One-Hot Encoding format."
      ],
      "metadata": {
        "id": "ut4zU9tzLdvj"
      }
    },
    {
      "cell_type": "code",
      "execution_count": null,
      "metadata": {
        "id": "5uu1ip2fskUG"
      },
      "outputs": [],
      "source": [
        "from keras import utils\n",
        "train_ans = utils.to_categorical(train_ans, 10)\n",
        "test_ans = utils.to_categorical(test_ans, 10)"
      ]
    },
    {
      "cell_type": "code",
      "execution_count": null,
      "metadata": {
        "id": "y0kxQLKFtHL_"
      },
      "outputs": [],
      "source": [
        "# test\n",
        "train_ans[7122]"
      ]
    },
    {
      "cell_type": "markdown",
      "source": [
        "## Build Model"
      ],
      "metadata": {
        "id": "tOR07ynHMb4x"
      }
    },
    {
      "cell_type": "markdown",
      "source": [
        "### Step 6: Import libraries"
      ],
      "metadata": {
        "id": "-wjII2PJMd6V"
      }
    },
    {
      "cell_type": "code",
      "execution_count": null,
      "metadata": {
        "id": "ZZJ_19EJnqPr"
      },
      "outputs": [],
      "source": [
        "from keras.models import Sequential # model object\n",
        "from keras.layers import Dense, Activation, Dropout # Dense: 設定layer的neuron數, Acitvation:激勵函數\n",
        "from tensorflow.keras.optimizers import SGD # 載入stochastic gradient decent的optimzer"
      ]
    },
    {
      "cell_type": "markdown",
      "source": [
        "### Step 7: Create NN object"
      ],
      "metadata": {
        "id": "MQ59KjrDNY-T"
      }
    },
    {
      "cell_type": "code",
      "execution_count": null,
      "metadata": {
        "id": "48MLCB-Kn5L8"
      },
      "outputs": [],
      "source": [
        "model = Sequential() # 建立神經網路物件"
      ]
    },
    {
      "cell_type": "markdown",
      "source": [
        "### Step 8: Add first Hidden Layer\n"
      ],
      "metadata": {
        "id": "BPE2qbe4Nhzk"
      }
    },
    {
      "cell_type": "code",
      "execution_count": null,
      "metadata": {
        "id": "U7s-B2DRoRiI"
      },
      "outputs": [],
      "source": [
        "layer1_size = 800\n",
        "model.add(Dense(layer1_size, input_dim = 784))\n",
        "model.add(Activation('sigmoid'))\n",
        "model.add(Dropout(0.4))"
      ]
    },
    {
      "cell_type": "markdown",
      "source": [
        "### Step 9: Add second Hidden Layer"
      ],
      "metadata": {
        "id": "QjvDrIFwN5ve"
      }
    },
    {
      "cell_type": "code",
      "execution_count": null,
      "metadata": {
        "id": "9qL_0en2rJcy"
      },
      "outputs": [],
      "source": [
        "layer2_size = 800\n",
        "model.add(Dense(layer2_size, input_dim = layer1_size)) # 新增一個hidden layer(含800個神經元, 輸入維度800)\n",
        "model.add(Activation('sigmoid')) # 新增layer2的activation: sigmoid\n",
        "model.add(Dropout(0.4))"
      ]
    },
    {
      "cell_type": "markdown",
      "source": [
        "### Step 10: Add an output layer"
      ],
      "metadata": {
        "id": "I5lhwgHzOI3l"
      }
    },
    {
      "cell_type": "code",
      "execution_count": null,
      "metadata": {
        "id": "CFLgr8P1wY2a"
      },
      "outputs": [],
      "source": [
        "output_size = 10\n",
        "model.add(Dense(output_size, input_dim = layer2_size))\n",
        "model.add(Activation('softmax')) # 新增output layer的activation: sigmoid"
      ]
    },
    {
      "cell_type": "markdown",
      "source": [
        "### Step 11: Build the neural network"
      ],
      "metadata": {
        "id": "f4GI4EaBOXtM"
      }
    },
    {
      "cell_type": "code",
      "execution_count": null,
      "metadata": {
        "id": "8p_VBZT3wkLU"
      },
      "outputs": [],
      "source": [
        "# 設定loss function: mse(平方平均), optimzer: SGD, learing_rate = 0.1, 評比標準: accuracy\n",
        "model.compile(loss = 'mse', optimizer = SGD(learning_rate = 0.1), metrics = ['accuracy'])"
      ]
    },
    {
      "cell_type": "markdown",
      "source": [
        "### Step 12: View network structure"
      ],
      "metadata": {
        "id": "jlMZzML0OglA"
      }
    },
    {
      "cell_type": "code",
      "execution_count": null,
      "metadata": {
        "id": "WWT7m6a9wpAl"
      },
      "outputs": [],
      "source": [
        "model.summary()"
      ]
    },
    {
      "cell_type": "markdown",
      "source": [
        "### Step 13: Train NN"
      ],
      "metadata": {
        "id": "XF2kvSaxOlhv"
      }
    },
    {
      "cell_type": "code",
      "execution_count": null,
      "metadata": {
        "id": "BlEHHimkwujt"
      },
      "outputs": [],
      "source": [
        "model.fit(train_data, train_ans, batch_size = 50, epochs = 40)"
      ]
    },
    {
      "cell_type": "markdown",
      "source": [
        "### Step 14: Evaluate model performance"
      ],
      "metadata": {
        "id": "U6ytOKzOPSkf"
      }
    },
    {
      "cell_type": "code",
      "execution_count": null,
      "metadata": {
        "id": "Pm4fu6WRo5dV"
      },
      "outputs": [],
      "source": [
        "score = model.evaluate(test_data, test_ans)\n",
        "print(\"loss : \", score[0])\n",
        "print(\"acc : \", score[1])"
      ]
    },
    {
      "cell_type": "markdown",
      "source": [
        "### Step 15: Import helpful tool for showing learning results: IPyWidgets"
      ],
      "metadata": {
        "id": "p6dMj_EIPX1Q"
      }
    },
    {
      "cell_type": "code",
      "execution_count": null,
      "metadata": {
        "id": "E1MAKiKktkGC"
      },
      "outputs": [],
      "source": [
        "# show results\n",
        "from ipywidgets import interact_manual"
      ]
    },
    {
      "cell_type": "markdown",
      "source": [
        "### Step 16: Define `test()` function\n",
        "\n",
        "`Test()` function is used to display the model's predictions.\n",
        "\n"
      ],
      "metadata": {
        "id": "4UKlQGV7Pzbc"
      }
    },
    {
      "cell_type": "code",
      "execution_count": null,
      "metadata": {
        "id": "dblauhTvuBJM"
      },
      "outputs": [],
      "source": [
        "def test(index) :\n",
        "  matplotlib.pyplot.imshow(test_data[index].reshape(28,28), cmap = \"Greys\")\n",
        "  print(\"神經網路判斷為：\", predict[index])"
      ]
    },
    {
      "cell_type": "markdown",
      "source": [
        "### Step 17: Predict unknown image with model"
      ],
      "metadata": {
        "id": "rAEtuZptQQ21"
      }
    },
    {
      "cell_type": "code",
      "execution_count": null,
      "metadata": {
        "id": "mT69Rx_jtyiV"
      },
      "outputs": [],
      "source": [
        "predict = model.predict(test_data)\n",
        "print(predict[7122])"
      ]
    },
    {
      "cell_type": "markdown",
      "source": [
        "### Step 18: Transform one-hot encoded values into integers"
      ],
      "metadata": {
        "id": "YfF82WNEQevW"
      }
    },
    {
      "cell_type": "code",
      "source": [
        "predict = numpy.argmax(predict, axis = -1)\n",
        "print(predict[7122])"
      ],
      "metadata": {
        "id": "AbmqQt9CQh0u"
      },
      "execution_count": null,
      "outputs": []
    },
    {
      "cell_type": "markdown",
      "source": [
        "### Step 19: Interactive display of prediction results"
      ],
      "metadata": {
        "id": "vQjCjjUpQiV6"
      }
    },
    {
      "cell_type": "code",
      "execution_count": null,
      "metadata": {
        "id": "_U4JYoYVubgJ"
      },
      "outputs": [],
      "source": [
        "interact_manual(test, index = (0,9999))"
      ]
    },
    {
      "cell_type": "markdown",
      "source": [
        "### Step 20: Save the trained model and parameters"
      ],
      "metadata": {
        "id": "weoRn_ZaQx-c"
      }
    },
    {
      "cell_type": "code",
      "execution_count": null,
      "metadata": {
        "id": "pMPbz6lfv5cH"
      },
      "outputs": [],
      "source": [
        "model.save(\"handwriting_model.keras\")"
      ]
    },
    {
      "cell_type": "markdown",
      "source": [
        "### Step 21: Open the trained model and parameters"
      ],
      "metadata": {
        "id": "UcB5AthPQ8KK"
      }
    },
    {
      "cell_type": "code",
      "execution_count": null,
      "metadata": {
        "id": "gZ2zpoFBzV1T"
      },
      "outputs": [],
      "source": [
        "from keras.models import load_model\n",
        "model2 = load_model(\"handwriting_model.keras\")"
      ]
    },
    {
      "cell_type": "code",
      "execution_count": null,
      "metadata": {
        "id": "P10uVdid0wSn"
      },
      "outputs": [],
      "source": [
        "# test\n",
        "predict = model2.predict(test_data)\n",
        "print(predict[7122])\n",
        "predict = numpy.argmax(predict, axis=-1)\n",
        "print(predict[7122])"
      ]
    }
  ],
  "metadata": {
    "colab": {
      "provenance": [],
      "gpuType": "T4",
      "authorship_tag": "ABX9TyPvMf84Xnm/RsSAluGKdPnN"
    },
    "kernelspec": {
      "display_name": "Python 3",
      "name": "python3"
    },
    "language_info": {
      "name": "python"
    },
    "accelerator": "GPU"
  },
  "nbformat": 4,
  "nbformat_minor": 0
}
